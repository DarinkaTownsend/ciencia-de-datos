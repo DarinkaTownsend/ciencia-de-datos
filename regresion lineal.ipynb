{
 "cells": [
  {
   "cell_type": "code",
   "execution_count": 8,
   "id": "d71aa886",
   "metadata": {},
   "outputs": [],
   "source": [
    "import pandas as pd\n",
    "import numpy as np\n",
    "import matplotlib.pyplot as plt\n",
    "import seaborn as sns\n",
    "from scipy import stats\n",
    "from sklearn.model_selection import train_test_split\n",
    "from sklearn.linear_model import LinearRegression\n",
    "from sklearn.metrics import mean_absolute_error\n",
    "from sklearn.metrics import mean_squared_error\n",
    "from sklearn.metrics import r2_score\n",
    "%matplotlib inline"
   ]
  },
  {
   "cell_type": "code",
   "execution_count": 12,
   "id": "a73fcb51",
   "metadata": {},
   "outputs": [],
   "source": [
    "df = pd.read_csv(\"./datosLimpios2022.csv\")"
   ]
  },
  {
   "cell_type": "code",
   "execution_count": 3,
   "id": "3371a943",
   "metadata": {},
   "outputs": [
    {
     "data": {
      "text/html": [
       "<div>\n",
       "<style scoped>\n",
       "    .dataframe tbody tr th:only-of-type {\n",
       "        vertical-align: middle;\n",
       "    }\n",
       "\n",
       "    .dataframe tbody tr th {\n",
       "        vertical-align: top;\n",
       "    }\n",
       "\n",
       "    .dataframe thead th {\n",
       "        text-align: right;\n",
       "    }\n",
       "</style>\n",
       "<table border=\"1\" class=\"dataframe\">\n",
       "  <thead>\n",
       "    <tr style=\"text-align: right;\">\n",
       "      <th></th>\n",
       "      <th>tip_movi</th>\n",
       "      <th>tip_naci</th>\n",
       "      <th>anio_movi</th>\n",
       "      <th>mes_movi</th>\n",
       "      <th>dia_movi</th>\n",
       "      <th>sex_migr</th>\n",
       "      <th>nac_migr</th>\n",
       "      <th>via_tran</th>\n",
       "      <th>mot_viam</th>\n",
       "      <th>cont_res</th>\n",
       "      <th>cont_nac</th>\n",
       "      <th>cont_prod</th>\n",
       "      <th>pais_prod</th>\n",
       "      <th>pais_res</th>\n",
       "      <th>pro_jefm</th>\n",
       "      <th>jef_migr</th>\n",
       "      <th>edad</th>\n",
       "      <th>precio_pasaje</th>\n",
       "    </tr>\n",
       "  </thead>\n",
       "  <tbody>\n",
       "    <tr>\n",
       "      <th>0</th>\n",
       "      <td>Salida</td>\n",
       "      <td>Ecuatorianos</td>\n",
       "      <td>2022</td>\n",
       "      <td>4</td>\n",
       "      <td>20</td>\n",
       "      <td>Mujer</td>\n",
       "      <td>ECUADOR</td>\n",
       "      <td>Vía Aérea</td>\n",
       "      <td>Residencia</td>\n",
       "      <td>América</td>\n",
       "      <td>América</td>\n",
       "      <td>América</td>\n",
       "      <td>ARGENTINA</td>\n",
       "      <td>ARGENTINA</td>\n",
       "      <td>PICHINCHA</td>\n",
       "      <td>1</td>\n",
       "      <td>23</td>\n",
       "      <td>800.90</td>\n",
       "    </tr>\n",
       "    <tr>\n",
       "      <th>1</th>\n",
       "      <td>Entrada</td>\n",
       "      <td>Ecuatorianos</td>\n",
       "      <td>2022</td>\n",
       "      <td>5</td>\n",
       "      <td>26</td>\n",
       "      <td>Mujer</td>\n",
       "      <td>ECUADOR</td>\n",
       "      <td>Vía Aérea</td>\n",
       "      <td>Residencia</td>\n",
       "      <td>América</td>\n",
       "      <td>América</td>\n",
       "      <td>Europa</td>\n",
       "      <td>SUIZA SWITZERLAND</td>\n",
       "      <td>ECUADOR</td>\n",
       "      <td>PICHINCHA</td>\n",
       "      <td>1</td>\n",
       "      <td>68</td>\n",
       "      <td>1200.98</td>\n",
       "    </tr>\n",
       "    <tr>\n",
       "      <th>2</th>\n",
       "      <td>Salida</td>\n",
       "      <td>Ecuatorianos</td>\n",
       "      <td>2022</td>\n",
       "      <td>12</td>\n",
       "      <td>8</td>\n",
       "      <td>Hombre</td>\n",
       "      <td>ECUADOR</td>\n",
       "      <td>Vía Terrestre</td>\n",
       "      <td>Residencia</td>\n",
       "      <td>América</td>\n",
       "      <td>América</td>\n",
       "      <td>América</td>\n",
       "      <td>COLOMBIA</td>\n",
       "      <td>ECUADOR</td>\n",
       "      <td>CARCHI</td>\n",
       "      <td>11</td>\n",
       "      <td>14</td>\n",
       "      <td>800.90</td>\n",
       "    </tr>\n",
       "    <tr>\n",
       "      <th>3</th>\n",
       "      <td>Salida</td>\n",
       "      <td>Ecuatorianos</td>\n",
       "      <td>2022</td>\n",
       "      <td>10</td>\n",
       "      <td>3</td>\n",
       "      <td>Hombre</td>\n",
       "      <td>ECUADOR</td>\n",
       "      <td>Vía Aérea</td>\n",
       "      <td>Turismo</td>\n",
       "      <td>América</td>\n",
       "      <td>América</td>\n",
       "      <td>América</td>\n",
       "      <td>ESTADOS UNIDOS USA</td>\n",
       "      <td>ECUADOR</td>\n",
       "      <td>GUAYAS</td>\n",
       "      <td>12</td>\n",
       "      <td>71</td>\n",
       "      <td>800.90</td>\n",
       "    </tr>\n",
       "    <tr>\n",
       "      <th>4</th>\n",
       "      <td>Entrada</td>\n",
       "      <td>Ecuatorianos</td>\n",
       "      <td>2022</td>\n",
       "      <td>2</td>\n",
       "      <td>1</td>\n",
       "      <td>Mujer</td>\n",
       "      <td>ECUADOR</td>\n",
       "      <td>Vía Aérea</td>\n",
       "      <td>Residencia</td>\n",
       "      <td>Europa</td>\n",
       "      <td>América</td>\n",
       "      <td>Europa</td>\n",
       "      <td>ESPAÑA</td>\n",
       "      <td>ESPAÑA</td>\n",
       "      <td>PICHINCHA</td>\n",
       "      <td>1</td>\n",
       "      <td>38</td>\n",
       "      <td>1000.00</td>\n",
       "    </tr>\n",
       "    <tr>\n",
       "      <th>...</th>\n",
       "      <td>...</td>\n",
       "      <td>...</td>\n",
       "      <td>...</td>\n",
       "      <td>...</td>\n",
       "      <td>...</td>\n",
       "      <td>...</td>\n",
       "      <td>...</td>\n",
       "      <td>...</td>\n",
       "      <td>...</td>\n",
       "      <td>...</td>\n",
       "      <td>...</td>\n",
       "      <td>...</td>\n",
       "      <td>...</td>\n",
       "      <td>...</td>\n",
       "      <td>...</td>\n",
       "      <td>...</td>\n",
       "      <td>...</td>\n",
       "      <td>...</td>\n",
       "    </tr>\n",
       "    <tr>\n",
       "      <th>9930</th>\n",
       "      <td>Entrada</td>\n",
       "      <td>Ecuatorianos</td>\n",
       "      <td>2022</td>\n",
       "      <td>8</td>\n",
       "      <td>14</td>\n",
       "      <td>Mujer</td>\n",
       "      <td>ECUADOR</td>\n",
       "      <td>Vía Terrestre</td>\n",
       "      <td>Residencia</td>\n",
       "      <td>América</td>\n",
       "      <td>América</td>\n",
       "      <td>América</td>\n",
       "      <td>PERU PERU</td>\n",
       "      <td>ECUADOR</td>\n",
       "      <td>EL ORO</td>\n",
       "      <td>9</td>\n",
       "      <td>15</td>\n",
       "      <td>800.90</td>\n",
       "    </tr>\n",
       "    <tr>\n",
       "      <th>9931</th>\n",
       "      <td>Salida</td>\n",
       "      <td>Ecuatorianos</td>\n",
       "      <td>2022</td>\n",
       "      <td>11</td>\n",
       "      <td>4</td>\n",
       "      <td>Mujer</td>\n",
       "      <td>ECUADOR</td>\n",
       "      <td>Vía Terrestre</td>\n",
       "      <td>Turismo</td>\n",
       "      <td>América</td>\n",
       "      <td>América</td>\n",
       "      <td>América</td>\n",
       "      <td>COLOMBIA</td>\n",
       "      <td>ECUADOR</td>\n",
       "      <td>CARCHI</td>\n",
       "      <td>11</td>\n",
       "      <td>60</td>\n",
       "      <td>800.90</td>\n",
       "    </tr>\n",
       "    <tr>\n",
       "      <th>9932</th>\n",
       "      <td>Salida</td>\n",
       "      <td>Ecuatorianos</td>\n",
       "      <td>2022</td>\n",
       "      <td>5</td>\n",
       "      <td>6</td>\n",
       "      <td>Mujer</td>\n",
       "      <td>ECUADOR</td>\n",
       "      <td>Vía Aérea</td>\n",
       "      <td>Turismo</td>\n",
       "      <td>América</td>\n",
       "      <td>América</td>\n",
       "      <td>América</td>\n",
       "      <td>MEXICO MEXICO</td>\n",
       "      <td>ECUADOR</td>\n",
       "      <td>PICHINCHA</td>\n",
       "      <td>1</td>\n",
       "      <td>30</td>\n",
       "      <td>800.90</td>\n",
       "    </tr>\n",
       "    <tr>\n",
       "      <th>9933</th>\n",
       "      <td>Salida</td>\n",
       "      <td>Ecuatorianos</td>\n",
       "      <td>2022</td>\n",
       "      <td>12</td>\n",
       "      <td>20</td>\n",
       "      <td>Hombre</td>\n",
       "      <td>ECUADOR</td>\n",
       "      <td>Vía Aérea</td>\n",
       "      <td>Turismo</td>\n",
       "      <td>América</td>\n",
       "      <td>América</td>\n",
       "      <td>América</td>\n",
       "      <td>ESTADOS UNIDOS USA</td>\n",
       "      <td>ECUADOR</td>\n",
       "      <td>PICHINCHA</td>\n",
       "      <td>1</td>\n",
       "      <td>71</td>\n",
       "      <td>800.90</td>\n",
       "    </tr>\n",
       "    <tr>\n",
       "      <th>9934</th>\n",
       "      <td>Salida</td>\n",
       "      <td>Ecuatorianos</td>\n",
       "      <td>2022</td>\n",
       "      <td>4</td>\n",
       "      <td>28</td>\n",
       "      <td>Mujer</td>\n",
       "      <td>ECUADOR</td>\n",
       "      <td>Vía Aérea</td>\n",
       "      <td>Turismo</td>\n",
       "      <td>América</td>\n",
       "      <td>América</td>\n",
       "      <td>América</td>\n",
       "      <td>ESTADOS UNIDOS USA</td>\n",
       "      <td>ECUADOR</td>\n",
       "      <td>GUAYAS</td>\n",
       "      <td>12</td>\n",
       "      <td>31</td>\n",
       "      <td>800.90</td>\n",
       "    </tr>\n",
       "  </tbody>\n",
       "</table>\n",
       "<p>9935 rows × 18 columns</p>\n",
       "</div>"
      ],
      "text/plain": [
       "     tip_movi      tip_naci  anio_movi  mes_movi  dia_movi sex_migr nac_migr  \\\n",
       "0      Salida  Ecuatorianos       2022         4        20    Mujer  ECUADOR   \n",
       "1     Entrada  Ecuatorianos       2022         5        26    Mujer  ECUADOR   \n",
       "2      Salida  Ecuatorianos       2022        12         8   Hombre  ECUADOR   \n",
       "3      Salida  Ecuatorianos       2022        10         3   Hombre  ECUADOR   \n",
       "4     Entrada  Ecuatorianos       2022         2         1    Mujer  ECUADOR   \n",
       "...       ...           ...        ...       ...       ...      ...      ...   \n",
       "9930  Entrada  Ecuatorianos       2022         8        14    Mujer  ECUADOR   \n",
       "9931   Salida  Ecuatorianos       2022        11         4    Mujer  ECUADOR   \n",
       "9932   Salida  Ecuatorianos       2022         5         6    Mujer  ECUADOR   \n",
       "9933   Salida  Ecuatorianos       2022        12        20   Hombre  ECUADOR   \n",
       "9934   Salida  Ecuatorianos       2022         4        28    Mujer  ECUADOR   \n",
       "\n",
       "           via_tran    mot_viam cont_res cont_nac cont_prod  \\\n",
       "0         Vía Aérea  Residencia  América  América   América   \n",
       "1         Vía Aérea  Residencia  América  América    Europa   \n",
       "2     Vía Terrestre  Residencia  América  América   América   \n",
       "3         Vía Aérea     Turismo  América  América   América   \n",
       "4         Vía Aérea  Residencia   Europa  América    Europa   \n",
       "...             ...         ...      ...      ...       ...   \n",
       "9930  Vía Terrestre  Residencia  América  América   América   \n",
       "9931  Vía Terrestre     Turismo  América  América   América   \n",
       "9932      Vía Aérea     Turismo  América  América   América   \n",
       "9933      Vía Aérea     Turismo  América  América   América   \n",
       "9934      Vía Aérea     Turismo  América  América   América   \n",
       "\n",
       "               pais_prod   pais_res   pro_jefm  jef_migr  edad  precio_pasaje  \n",
       "0              ARGENTINA  ARGENTINA  PICHINCHA         1    23         800.90  \n",
       "1      SUIZA SWITZERLAND    ECUADOR  PICHINCHA         1    68        1200.98  \n",
       "2               COLOMBIA    ECUADOR     CARCHI        11    14         800.90  \n",
       "3     ESTADOS UNIDOS USA    ECUADOR     GUAYAS        12    71         800.90  \n",
       "4                 ESPAÑA     ESPAÑA  PICHINCHA         1    38        1000.00  \n",
       "...                  ...        ...        ...       ...   ...            ...  \n",
       "9930           PERU PERU    ECUADOR     EL ORO         9    15         800.90  \n",
       "9931            COLOMBIA    ECUADOR     CARCHI        11    60         800.90  \n",
       "9932       MEXICO MEXICO    ECUADOR  PICHINCHA         1    30         800.90  \n",
       "9933  ESTADOS UNIDOS USA    ECUADOR  PICHINCHA         1    71         800.90  \n",
       "9934  ESTADOS UNIDOS USA    ECUADOR     GUAYAS        12    31         800.90  \n",
       "\n",
       "[9935 rows x 18 columns]"
      ]
     },
     "execution_count": 3,
     "metadata": {},
     "output_type": "execute_result"
    }
   ],
   "source": [
    "df"
   ]
  },
  {
   "cell_type": "code",
   "execution_count": 16,
   "id": "597c8e3f",
   "metadata": {},
   "outputs": [],
   "source": [
    "#True si entran al pais false si salen\n",
    "df['tip_movi'] = df['tip_movi'].map({'Entrada': True, 'Salida': False})"
   ]
  },
  {
   "cell_type": "code",
   "execution_count": 17,
   "id": "004fb029",
   "metadata": {},
   "outputs": [
    {
     "data": {
      "text/html": [
       "<div>\n",
       "<style scoped>\n",
       "    .dataframe tbody tr th:only-of-type {\n",
       "        vertical-align: middle;\n",
       "    }\n",
       "\n",
       "    .dataframe tbody tr th {\n",
       "        vertical-align: top;\n",
       "    }\n",
       "\n",
       "    .dataframe thead th {\n",
       "        text-align: right;\n",
       "    }\n",
       "</style>\n",
       "<table border=\"1\" class=\"dataframe\">\n",
       "  <thead>\n",
       "    <tr style=\"text-align: right;\">\n",
       "      <th></th>\n",
       "      <th>precio_pasaje</th>\n",
       "      <th>edad</th>\n",
       "      <th>mes_movi</th>\n",
       "      <th>tip_movi</th>\n",
       "    </tr>\n",
       "  </thead>\n",
       "  <tbody>\n",
       "    <tr>\n",
       "      <th>0</th>\n",
       "      <td>800.90</td>\n",
       "      <td>23</td>\n",
       "      <td>4</td>\n",
       "      <td>False</td>\n",
       "    </tr>\n",
       "    <tr>\n",
       "      <th>1</th>\n",
       "      <td>1200.98</td>\n",
       "      <td>68</td>\n",
       "      <td>5</td>\n",
       "      <td>True</td>\n",
       "    </tr>\n",
       "    <tr>\n",
       "      <th>2</th>\n",
       "      <td>800.90</td>\n",
       "      <td>14</td>\n",
       "      <td>12</td>\n",
       "      <td>False</td>\n",
       "    </tr>\n",
       "    <tr>\n",
       "      <th>3</th>\n",
       "      <td>800.90</td>\n",
       "      <td>71</td>\n",
       "      <td>10</td>\n",
       "      <td>False</td>\n",
       "    </tr>\n",
       "    <tr>\n",
       "      <th>4</th>\n",
       "      <td>1000.00</td>\n",
       "      <td>38</td>\n",
       "      <td>2</td>\n",
       "      <td>True</td>\n",
       "    </tr>\n",
       "    <tr>\n",
       "      <th>...</th>\n",
       "      <td>...</td>\n",
       "      <td>...</td>\n",
       "      <td>...</td>\n",
       "      <td>...</td>\n",
       "    </tr>\n",
       "    <tr>\n",
       "      <th>9930</th>\n",
       "      <td>800.90</td>\n",
       "      <td>15</td>\n",
       "      <td>8</td>\n",
       "      <td>True</td>\n",
       "    </tr>\n",
       "    <tr>\n",
       "      <th>9931</th>\n",
       "      <td>800.90</td>\n",
       "      <td>60</td>\n",
       "      <td>11</td>\n",
       "      <td>False</td>\n",
       "    </tr>\n",
       "    <tr>\n",
       "      <th>9932</th>\n",
       "      <td>800.90</td>\n",
       "      <td>30</td>\n",
       "      <td>5</td>\n",
       "      <td>False</td>\n",
       "    </tr>\n",
       "    <tr>\n",
       "      <th>9933</th>\n",
       "      <td>800.90</td>\n",
       "      <td>71</td>\n",
       "      <td>12</td>\n",
       "      <td>False</td>\n",
       "    </tr>\n",
       "    <tr>\n",
       "      <th>9934</th>\n",
       "      <td>800.90</td>\n",
       "      <td>31</td>\n",
       "      <td>4</td>\n",
       "      <td>False</td>\n",
       "    </tr>\n",
       "  </tbody>\n",
       "</table>\n",
       "<p>9935 rows × 4 columns</p>\n",
       "</div>"
      ],
      "text/plain": [
       "      precio_pasaje  edad  mes_movi  tip_movi\n",
       "0            800.90    23         4     False\n",
       "1           1200.98    68         5      True\n",
       "2            800.90    14        12     False\n",
       "3            800.90    71        10     False\n",
       "4           1000.00    38         2      True\n",
       "...             ...   ...       ...       ...\n",
       "9930         800.90    15         8      True\n",
       "9931         800.90    60        11     False\n",
       "9932         800.90    30         5     False\n",
       "9933         800.90    71        12     False\n",
       "9934         800.90    31         4     False\n",
       "\n",
       "[9935 rows x 4 columns]"
      ]
     },
     "execution_count": 17,
     "metadata": {},
     "output_type": "execute_result"
    }
   ],
   "source": [
    "df"
   ]
  },
  {
   "cell_type": "code",
   "execution_count": 18,
   "id": "d8d5572e",
   "metadata": {},
   "outputs": [],
   "source": [
    "df= df.loc[:,[\"precio_pasaje\",\"edad\", \"mes_movi\",\"tip_movi\"]]"
   ]
  },
  {
   "cell_type": "code",
   "execution_count": 19,
   "id": "0205240e",
   "metadata": {},
   "outputs": [
    {
     "data": {
      "text/html": [
       "<div>\n",
       "<style scoped>\n",
       "    .dataframe tbody tr th:only-of-type {\n",
       "        vertical-align: middle;\n",
       "    }\n",
       "\n",
       "    .dataframe tbody tr th {\n",
       "        vertical-align: top;\n",
       "    }\n",
       "\n",
       "    .dataframe thead th {\n",
       "        text-align: right;\n",
       "    }\n",
       "</style>\n",
       "<table border=\"1\" class=\"dataframe\">\n",
       "  <thead>\n",
       "    <tr style=\"text-align: right;\">\n",
       "      <th></th>\n",
       "      <th>precio_pasaje</th>\n",
       "      <th>edad</th>\n",
       "      <th>mes_movi</th>\n",
       "      <th>tip_movi</th>\n",
       "    </tr>\n",
       "  </thead>\n",
       "  <tbody>\n",
       "    <tr>\n",
       "      <th>precio_pasaje</th>\n",
       "      <td>1.000000</td>\n",
       "      <td>0.044926</td>\n",
       "      <td>0.003550</td>\n",
       "      <td>0.006646</td>\n",
       "    </tr>\n",
       "    <tr>\n",
       "      <th>edad</th>\n",
       "      <td>0.044926</td>\n",
       "      <td>1.000000</td>\n",
       "      <td>0.000767</td>\n",
       "      <td>0.054293</td>\n",
       "    </tr>\n",
       "    <tr>\n",
       "      <th>mes_movi</th>\n",
       "      <td>0.003550</td>\n",
       "      <td>0.000767</td>\n",
       "      <td>1.000000</td>\n",
       "      <td>0.006992</td>\n",
       "    </tr>\n",
       "    <tr>\n",
       "      <th>tip_movi</th>\n",
       "      <td>0.006646</td>\n",
       "      <td>0.054293</td>\n",
       "      <td>0.006992</td>\n",
       "      <td>1.000000</td>\n",
       "    </tr>\n",
       "  </tbody>\n",
       "</table>\n",
       "</div>"
      ],
      "text/plain": [
       "               precio_pasaje      edad  mes_movi  tip_movi\n",
       "precio_pasaje       1.000000  0.044926  0.003550  0.006646\n",
       "edad                0.044926  1.000000  0.000767  0.054293\n",
       "mes_movi            0.003550  0.000767  1.000000  0.006992\n",
       "tip_movi            0.006646  0.054293  0.006992  1.000000"
      ]
     },
     "execution_count": 19,
     "metadata": {},
     "output_type": "execute_result"
    }
   ],
   "source": [
    "df.corr()"
   ]
  },
  {
   "cell_type": "code",
   "execution_count": 20,
   "id": "e823e474",
   "metadata": {},
   "outputs": [
    {
     "data": {
      "text/html": [
       "<div>\n",
       "<style scoped>\n",
       "    .dataframe tbody tr th:only-of-type {\n",
       "        vertical-align: middle;\n",
       "    }\n",
       "\n",
       "    .dataframe tbody tr th {\n",
       "        vertical-align: top;\n",
       "    }\n",
       "\n",
       "    .dataframe thead th {\n",
       "        text-align: right;\n",
       "    }\n",
       "</style>\n",
       "<table border=\"1\" class=\"dataframe\">\n",
       "  <thead>\n",
       "    <tr style=\"text-align: right;\">\n",
       "      <th></th>\n",
       "      <th>precio_pasaje</th>\n",
       "      <th>edad</th>\n",
       "      <th>mes_movi</th>\n",
       "      <th>tip_movi</th>\n",
       "    </tr>\n",
       "  </thead>\n",
       "  <tbody>\n",
       "    <tr>\n",
       "      <th>precio_pasaje</th>\n",
       "      <td>1.000000</td>\n",
       "      <td>0.047631</td>\n",
       "      <td>-0.022718</td>\n",
       "      <td>0.028766</td>\n",
       "    </tr>\n",
       "    <tr>\n",
       "      <th>edad</th>\n",
       "      <td>0.047631</td>\n",
       "      <td>1.000000</td>\n",
       "      <td>0.000194</td>\n",
       "      <td>0.055546</td>\n",
       "    </tr>\n",
       "    <tr>\n",
       "      <th>mes_movi</th>\n",
       "      <td>-0.022718</td>\n",
       "      <td>0.000194</td>\n",
       "      <td>1.000000</td>\n",
       "      <td>0.009393</td>\n",
       "    </tr>\n",
       "    <tr>\n",
       "      <th>tip_movi</th>\n",
       "      <td>0.028766</td>\n",
       "      <td>0.055546</td>\n",
       "      <td>0.009393</td>\n",
       "      <td>1.000000</td>\n",
       "    </tr>\n",
       "  </tbody>\n",
       "</table>\n",
       "</div>"
      ],
      "text/plain": [
       "               precio_pasaje      edad  mes_movi  tip_movi\n",
       "precio_pasaje       1.000000  0.047631 -0.022718  0.028766\n",
       "edad                0.047631  1.000000  0.000194  0.055546\n",
       "mes_movi           -0.022718  0.000194  1.000000  0.009393\n",
       "tip_movi            0.028766  0.055546  0.009393  1.000000"
      ]
     },
     "execution_count": 20,
     "metadata": {},
     "output_type": "execute_result"
    }
   ],
   "source": [
    "df.corr(method=\"spearman\")"
   ]
  },
  {
   "cell_type": "code",
   "execution_count": 22,
   "id": "1bd9a8c9",
   "metadata": {},
   "outputs": [
    {
     "data": {
      "text/plain": [
       "PearsonRResult(statistic=0.044926183679074985, pvalue=7.475086934671163e-06)"
      ]
     },
     "execution_count": 22,
     "metadata": {},
     "output_type": "execute_result"
    }
   ],
   "source": [
    "stats.pearsonr(df[\"precio_pasaje\"],df[\"edad\"])"
   ]
  },
  {
   "cell_type": "code",
   "execution_count": 23,
   "id": "008eb625",
   "metadata": {},
   "outputs": [
    {
     "data": {
      "text/plain": [
       "SignificanceResult(statistic=0.04763091690748007, pvalue=2.0373399154151694e-06)"
      ]
     },
     "execution_count": 23,
     "metadata": {},
     "output_type": "execute_result"
    }
   ],
   "source": [
    "stats.spearmanr(df[\"precio_pasaje\"],df[\"edad\"])"
   ]
  },
  {
   "cell_type": "code",
   "execution_count": 25,
   "id": "4a69d9f5",
   "metadata": {},
   "outputs": [
    {
     "name": "stderr",
     "output_type": "stream",
     "text": [
      "C:\\Users\\damia\\anaconda3\\Lib\\site-packages\\seaborn\\axisgrid.py:118: UserWarning: The figure layout has changed to tight\n",
      "  self._figure.tight_layout(*args, **kwargs)\n"
     ]
    },
    {
     "data": {
      "text/plain": [
       "<seaborn.axisgrid.FacetGrid at 0x2070920ac50>"
      ]
     },
     "execution_count": 25,
     "metadata": {},
     "output_type": "execute_result"
    },
    {
     "data": {
      "image/png": "[encoded data removed]",
      "text/plain": [
       "<Figure size 584.875x500 with 1 Axes>"
      ]
     },
     "metadata": {},
     "output_type": "display_data"
    }
   ],
   "source": [
    "sns.lmplot(x=\"precio_pasaje\", y=\"edad\", hue=\"tip_movi\",data = df)"
   ]
  },
  {
   "cell_type": "code",
   "execution_count": 26,
   "id": "70eb8ac9",
   "metadata": {},
   "outputs": [
    {
     "name": "stderr",
     "output_type": "stream",
     "text": [
      "C:\\Users\\damia\\anaconda3\\Lib\\site-packages\\seaborn\\axisgrid.py:118: UserWarning: The figure layout has changed to tight\n",
      "  self._figure.tight_layout(*args, **kwargs)\n"
     ]
    },
    {
     "data": {
      "text/plain": [
       "<seaborn.axisgrid.FacetGrid at 0x20708aaf810>"
      ]
     },
     "execution_count": 26,
     "metadata": {},
     "output_type": "execute_result"
    },
    {
     "data": {
      "image/png": "[encoded data removed]",
      "text/plain": [
       "<Figure size 584.875x500 with 1 Axes>"
      ]
     },
     "metadata": {},
     "output_type": "display_data"
    }
   ],
   "source": [
    "sns.lmplot(x=\"mes_movi\", y=\"edad\", hue=\"tip_movi\",data = df)"
   ]
  },
  {
   "cell_type": "code",
   "execution_count": 28,
   "id": "f6171011",
   "metadata": {},
   "outputs": [
    {
     "name": "stderr",
     "output_type": "stream",
     "text": [
      "C:\\Users\\damia\\anaconda3\\Lib\\site-packages\\seaborn\\axisgrid.py:118: UserWarning: The figure layout has changed to tight\n",
      "  self._figure.tight_layout(*args, **kwargs)\n"
     ]
    },
    {
     "data": {
      "text/plain": [
       "<seaborn.axisgrid.FacetGrid at 0x20705b14e50>"
      ]
     },
     "execution_count": 28,
     "metadata": {},
     "output_type": "execute_result"
    },
    {
     "data": {
      "image/png": "[encoded data removed]",
      "text/plain": [
       "<Figure size 584.875x500 with 1 Axes>"
      ]
     },
     "metadata": {},
     "output_type": "display_data"
    }
   ],
   "source": [
    "sns.lmplot(y=\"mes_movi\", x=\"precio_pasaje\", hue=\"tip_movi\",data = df)"
   ]
  },
  {
   "cell_type": "code",
   "execution_count": 29,
   "id": "3b6911ff",
   "metadata": {},
   "outputs": [],
   "source": [
    "df[[\"no\",\"yes\"]] = pd.get_dummies(df[\"tip_movi\"])"
   ]
  },
  {
   "cell_type": "code",
   "execution_count": 30,
   "id": "0d0455b7",
   "metadata": {},
   "outputs": [
    {
     "data": {
      "text/html": [
       "<div>\n",
       "<style scoped>\n",
       "    .dataframe tbody tr th:only-of-type {\n",
       "        vertical-align: middle;\n",
       "    }\n",
       "\n",
       "    .dataframe tbody tr th {\n",
       "        vertical-align: top;\n",
       "    }\n",
       "\n",
       "    .dataframe thead th {\n",
       "        text-align: right;\n",
       "    }\n",
       "</style>\n",
       "<table border=\"1\" class=\"dataframe\">\n",
       "  <thead>\n",
       "    <tr style=\"text-align: right;\">\n",
       "      <th></th>\n",
       "      <th>precio_pasaje</th>\n",
       "      <th>edad</th>\n",
       "      <th>mes_movi</th>\n",
       "      <th>tip_movi</th>\n",
       "      <th>no</th>\n",
       "      <th>yes</th>\n",
       "    </tr>\n",
       "  </thead>\n",
       "  <tbody>\n",
       "    <tr>\n",
       "      <th>0</th>\n",
       "      <td>800.90</td>\n",
       "      <td>23</td>\n",
       "      <td>4</td>\n",
       "      <td>False</td>\n",
       "      <td>True</td>\n",
       "      <td>False</td>\n",
       "    </tr>\n",
       "    <tr>\n",
       "      <th>1</th>\n",
       "      <td>1200.98</td>\n",
       "      <td>68</td>\n",
       "      <td>5</td>\n",
       "      <td>True</td>\n",
       "      <td>False</td>\n",
       "      <td>True</td>\n",
       "    </tr>\n",
       "    <tr>\n",
       "      <th>2</th>\n",
       "      <td>800.90</td>\n",
       "      <td>14</td>\n",
       "      <td>12</td>\n",
       "      <td>False</td>\n",
       "      <td>True</td>\n",
       "      <td>False</td>\n",
       "    </tr>\n",
       "    <tr>\n",
       "      <th>3</th>\n",
       "      <td>800.90</td>\n",
       "      <td>71</td>\n",
       "      <td>10</td>\n",
       "      <td>False</td>\n",
       "      <td>True</td>\n",
       "      <td>False</td>\n",
       "    </tr>\n",
       "    <tr>\n",
       "      <th>4</th>\n",
       "      <td>1000.00</td>\n",
       "      <td>38</td>\n",
       "      <td>2</td>\n",
       "      <td>True</td>\n",
       "      <td>False</td>\n",
       "      <td>True</td>\n",
       "    </tr>\n",
       "    <tr>\n",
       "      <th>...</th>\n",
       "      <td>...</td>\n",
       "      <td>...</td>\n",
       "      <td>...</td>\n",
       "      <td>...</td>\n",
       "      <td>...</td>\n",
       "      <td>...</td>\n",
       "    </tr>\n",
       "    <tr>\n",
       "      <th>9930</th>\n",
       "      <td>800.90</td>\n",
       "      <td>15</td>\n",
       "      <td>8</td>\n",
       "      <td>True</td>\n",
       "      <td>False</td>\n",
       "      <td>True</td>\n",
       "    </tr>\n",
       "    <tr>\n",
       "      <th>9931</th>\n",
       "      <td>800.90</td>\n",
       "      <td>60</td>\n",
       "      <td>11</td>\n",
       "      <td>False</td>\n",
       "      <td>True</td>\n",
       "      <td>False</td>\n",
       "    </tr>\n",
       "    <tr>\n",
       "      <th>9932</th>\n",
       "      <td>800.90</td>\n",
       "      <td>30</td>\n",
       "      <td>5</td>\n",
       "      <td>False</td>\n",
       "      <td>True</td>\n",
       "      <td>False</td>\n",
       "    </tr>\n",
       "    <tr>\n",
       "      <th>9933</th>\n",
       "      <td>800.90</td>\n",
       "      <td>71</td>\n",
       "      <td>12</td>\n",
       "      <td>False</td>\n",
       "      <td>True</td>\n",
       "      <td>False</td>\n",
       "    </tr>\n",
       "    <tr>\n",
       "      <th>9934</th>\n",
       "      <td>800.90</td>\n",
       "      <td>31</td>\n",
       "      <td>4</td>\n",
       "      <td>False</td>\n",
       "      <td>True</td>\n",
       "      <td>False</td>\n",
       "    </tr>\n",
       "  </tbody>\n",
       "</table>\n",
       "<p>9935 rows × 6 columns</p>\n",
       "</div>"
      ],
      "text/plain": [
       "      precio_pasaje  edad  mes_movi  tip_movi     no    yes\n",
       "0            800.90    23         4     False   True  False\n",
       "1           1200.98    68         5      True  False   True\n",
       "2            800.90    14        12     False   True  False\n",
       "3            800.90    71        10     False   True  False\n",
       "4           1000.00    38         2      True  False   True\n",
       "...             ...   ...       ...       ...    ...    ...\n",
       "9930         800.90    15         8      True  False   True\n",
       "9931         800.90    60        11     False   True  False\n",
       "9932         800.90    30         5     False   True  False\n",
       "9933         800.90    71        12     False   True  False\n",
       "9934         800.90    31         4     False   True  False\n",
       "\n",
       "[9935 rows x 6 columns]"
      ]
     },
     "execution_count": 30,
     "metadata": {},
     "output_type": "execute_result"
    }
   ],
   "source": [
    "df"
   ]
  },
  {
   "cell_type": "code",
   "execution_count": 144,
   "id": "ea5626ae",
   "metadata": {},
   "outputs": [],
   "source": [
    "X=df.loc[:,[\"precio_pasaje\" ,\"tip_movi\"]]\n",
    "y=df[\"edad\"]"
   ]
  },
  {
   "cell_type": "code",
   "execution_count": 145,
   "id": "361b827b",
   "metadata": {},
   "outputs": [
    {
     "data": {
      "text/html": [
       "<div>\n",
       "<style scoped>\n",
       "    .dataframe tbody tr th:only-of-type {\n",
       "        vertical-align: middle;\n",
       "    }\n",
       "\n",
       "    .dataframe tbody tr th {\n",
       "        vertical-align: top;\n",
       "    }\n",
       "\n",
       "    .dataframe thead th {\n",
       "        text-align: right;\n",
       "    }\n",
       "</style>\n",
       "<table border=\"1\" class=\"dataframe\">\n",
       "  <thead>\n",
       "    <tr style=\"text-align: right;\">\n",
       "      <th></th>\n",
       "      <th>precio_pasaje</th>\n",
       "      <th>tip_movi</th>\n",
       "    </tr>\n",
       "  </thead>\n",
       "  <tbody>\n",
       "    <tr>\n",
       "      <th>0</th>\n",
       "      <td>800.90</td>\n",
       "      <td>False</td>\n",
       "    </tr>\n",
       "    <tr>\n",
       "      <th>1</th>\n",
       "      <td>1200.98</td>\n",
       "      <td>True</td>\n",
       "    </tr>\n",
       "    <tr>\n",
       "      <th>2</th>\n",
       "      <td>800.90</td>\n",
       "      <td>False</td>\n",
       "    </tr>\n",
       "    <tr>\n",
       "      <th>3</th>\n",
       "      <td>800.90</td>\n",
       "      <td>False</td>\n",
       "    </tr>\n",
       "    <tr>\n",
       "      <th>4</th>\n",
       "      <td>1000.00</td>\n",
       "      <td>True</td>\n",
       "    </tr>\n",
       "    <tr>\n",
       "      <th>...</th>\n",
       "      <td>...</td>\n",
       "      <td>...</td>\n",
       "    </tr>\n",
       "    <tr>\n",
       "      <th>9930</th>\n",
       "      <td>800.90</td>\n",
       "      <td>True</td>\n",
       "    </tr>\n",
       "    <tr>\n",
       "      <th>9931</th>\n",
       "      <td>800.90</td>\n",
       "      <td>False</td>\n",
       "    </tr>\n",
       "    <tr>\n",
       "      <th>9932</th>\n",
       "      <td>800.90</td>\n",
       "      <td>False</td>\n",
       "    </tr>\n",
       "    <tr>\n",
       "      <th>9933</th>\n",
       "      <td>800.90</td>\n",
       "      <td>False</td>\n",
       "    </tr>\n",
       "    <tr>\n",
       "      <th>9934</th>\n",
       "      <td>800.90</td>\n",
       "      <td>False</td>\n",
       "    </tr>\n",
       "  </tbody>\n",
       "</table>\n",
       "<p>9935 rows × 2 columns</p>\n",
       "</div>"
      ],
      "text/plain": [
       "      precio_pasaje  tip_movi\n",
       "0            800.90     False\n",
       "1           1200.98      True\n",
       "2            800.90     False\n",
       "3            800.90     False\n",
       "4           1000.00      True\n",
       "...             ...       ...\n",
       "9930         800.90      True\n",
       "9931         800.90     False\n",
       "9932         800.90     False\n",
       "9933         800.90     False\n",
       "9934         800.90     False\n",
       "\n",
       "[9935 rows x 2 columns]"
      ]
     },
     "execution_count": 145,
     "metadata": {},
     "output_type": "execute_result"
    }
   ],
   "source": [
    "X"
   ]
  },
  {
   "cell_type": "code",
   "execution_count": 146,
   "id": "8497d8b5",
   "metadata": {},
   "outputs": [
    {
     "data": {
      "text/plain": [
       "0       23\n",
       "1       68\n",
       "2       14\n",
       "3       71\n",
       "4       38\n",
       "        ..\n",
       "9930    15\n",
       "9931    60\n",
       "9932    30\n",
       "9933    71\n",
       "9934    31\n",
       "Name: edad, Length: 9935, dtype: int64"
      ]
     },
     "execution_count": 146,
     "metadata": {},
     "output_type": "execute_result"
    }
   ],
   "source": [
    "y"
   ]
  },
  {
   "cell_type": "code",
   "execution_count": 160,
   "id": "ea85694b",
   "metadata": {},
   "outputs": [],
   "source": [
    "X_train, X_test, y_train, y_test = train_test_split(X, y, test_size=0.30, random_state=42)"
   ]
  },
  {
   "cell_type": "code",
   "execution_count": 161,
   "id": "3964822d",
   "metadata": {},
   "outputs": [
    {
     "data": {
      "text/html": [
       "<div>\n",
       "<style scoped>\n",
       "    .dataframe tbody tr th:only-of-type {\n",
       "        vertical-align: middle;\n",
       "    }\n",
       "\n",
       "    .dataframe tbody tr th {\n",
       "        vertical-align: top;\n",
       "    }\n",
       "\n",
       "    .dataframe thead th {\n",
       "        text-align: right;\n",
       "    }\n",
       "</style>\n",
       "<table border=\"1\" class=\"dataframe\">\n",
       "  <thead>\n",
       "    <tr style=\"text-align: right;\">\n",
       "      <th></th>\n",
       "      <th>precio_pasaje</th>\n",
       "      <th>tip_movi</th>\n",
       "    </tr>\n",
       "  </thead>\n",
       "  <tbody>\n",
       "    <tr>\n",
       "      <th>6726</th>\n",
       "      <td>800.9</td>\n",
       "      <td>False</td>\n",
       "    </tr>\n",
       "    <tr>\n",
       "      <th>5807</th>\n",
       "      <td>800.9</td>\n",
       "      <td>False</td>\n",
       "    </tr>\n",
       "    <tr>\n",
       "      <th>4942</th>\n",
       "      <td>800.9</td>\n",
       "      <td>True</td>\n",
       "    </tr>\n",
       "    <tr>\n",
       "      <th>9925</th>\n",
       "      <td>800.9</td>\n",
       "      <td>False</td>\n",
       "    </tr>\n",
       "    <tr>\n",
       "      <th>7706</th>\n",
       "      <td>800.9</td>\n",
       "      <td>False</td>\n",
       "    </tr>\n",
       "    <tr>\n",
       "      <th>...</th>\n",
       "      <td>...</td>\n",
       "      <td>...</td>\n",
       "    </tr>\n",
       "    <tr>\n",
       "      <th>5734</th>\n",
       "      <td>800.9</td>\n",
       "      <td>False</td>\n",
       "    </tr>\n",
       "    <tr>\n",
       "      <th>5191</th>\n",
       "      <td>1000.0</td>\n",
       "      <td>True</td>\n",
       "    </tr>\n",
       "    <tr>\n",
       "      <th>5390</th>\n",
       "      <td>800.9</td>\n",
       "      <td>False</td>\n",
       "    </tr>\n",
       "    <tr>\n",
       "      <th>860</th>\n",
       "      <td>800.9</td>\n",
       "      <td>True</td>\n",
       "    </tr>\n",
       "    <tr>\n",
       "      <th>7270</th>\n",
       "      <td>800.9</td>\n",
       "      <td>False</td>\n",
       "    </tr>\n",
       "  </tbody>\n",
       "</table>\n",
       "<p>7948 rows × 2 columns</p>\n",
       "</div>"
      ],
      "text/plain": [
       "      precio_pasaje  tip_movi\n",
       "6726          800.9     False\n",
       "5807          800.9     False\n",
       "4942          800.9      True\n",
       "9925          800.9     False\n",
       "7706          800.9     False\n",
       "...             ...       ...\n",
       "5734          800.9     False\n",
       "5191         1000.0      True\n",
       "5390          800.9     False\n",
       "860           800.9      True\n",
       "7270          800.9     False\n",
       "\n",
       "[7948 rows x 2 columns]"
      ]
     },
     "execution_count": 161,
     "metadata": {},
     "output_type": "execute_result"
    }
   ],
   "source": [
    "X_train"
   ]
  },
  {
   "cell_type": "code",
   "execution_count": 162,
   "id": "90d09cda",
   "metadata": {},
   "outputs": [],
   "source": [
    "model = LinearRegression()"
   ]
  },
  {
   "cell_type": "code",
   "execution_count": 163,
   "id": "74d1800f",
   "metadata": {},
   "outputs": [
    {
     "data": {
      "text/html": [
       "<style>#sk-container-id-9 {color: black;}#sk-container-id-9 pre{padding: 0;}#sk-container-id-9 div.sk-toggleable {background-color: white;}#sk-container-id-9 label.sk-toggleable__label {cursor: pointer;display: block;width: 100%;margin-bottom: 0;padding: 0.3em;box-sizing: border-box;text-align: center;}#sk-container-id-9 label.sk-toggleable__label-arrow:before {content: \"▸\";float: left;margin-right: 0.25em;color: #696969;}#sk-container-id-9 label.sk-toggleable__label-arrow:hover:before {color: black;}#sk-container-id-9 div.sk-estimator:hover label.sk-toggleable__label-arrow:before {color: black;}#sk-container-id-9 div.sk-toggleable__content {max-height: 0;max-width: 0;overflow: hidden;text-align: left;background-color: #f0f8ff;}#sk-container-id-9 div.sk-toggleable__content pre {margin: 0.2em;color: black;border-radius: 0.25em;background-color: #f0f8ff;}#sk-container-id-9 input.sk-toggleable__control:checked~div.sk-toggleable__content {max-height: 200px;max-width: 100%;overflow: auto;}#sk-container-id-9 input.sk-toggleable__control:checked~label.sk-toggleable__label-arrow:before {content: \"▾\";}#sk-container-id-9 div.sk-estimator input.sk-toggleable__control:checked~label.sk-toggleable__label {background-color: #d4ebff;}#sk-container-id-9 div.sk-label input.sk-toggleable__control:checked~label.sk-toggleable__label {background-color: #d4ebff;}#sk-container-id-9 input.sk-hidden--visually {border: 0;clip: rect(1px 1px 1px 1px);clip: rect(1px, 1px, 1px, 1px);height: 1px;margin: -1px;overflow: hidden;padding: 0;position: absolute;width: 1px;}#sk-container-id-9 div.sk-estimator {font-family: monospace;background-color: #f0f8ff;border: 1px dotted black;border-radius: 0.25em;box-sizing: border-box;margin-bottom: 0.5em;}#sk-container-id-9 div.sk-estimator:hover {background-color: #d4ebff;}#sk-container-id-9 div.sk-parallel-item::after {content: \"\";width: 100%;border-bottom: 1px solid gray;flex-grow: 1;}#sk-container-id-9 div.sk-label:hover label.sk-toggleable__label {background-color: #d4ebff;}#sk-container-id-9 div.sk-serial::before {content: \"\";position: absolute;border-left: 1px solid gray;box-sizing: border-box;top: 0;bottom: 0;left: 50%;z-index: 0;}#sk-container-id-9 div.sk-serial {display: flex;flex-direction: column;align-items: center;background-color: white;padding-right: 0.2em;padding-left: 0.2em;position: relative;}#sk-container-id-9 div.sk-item {position: relative;z-index: 1;}#sk-container-id-9 div.sk-parallel {display: flex;align-items: stretch;justify-content: center;background-color: white;position: relative;}#sk-container-id-9 div.sk-item::before, #sk-container-id-9 div.sk-parallel-item::before {content: \"\";position: absolute;border-left: 1px solid gray;box-sizing: border-box;top: 0;bottom: 0;left: 50%;z-index: -1;}#sk-container-id-9 div.sk-parallel-item {display: flex;flex-direction: column;z-index: 1;position: relative;background-color: white;}#sk-container-id-9 div.sk-parallel-item:first-child::after {align-self: flex-end;width: 50%;}#sk-container-id-9 div.sk-parallel-item:last-child::after {align-self: flex-start;width: 50%;}#sk-container-id-9 div.sk-parallel-item:only-child::after {width: 0;}#sk-container-id-9 div.sk-dashed-wrapped {border: 1px dashed gray;margin: 0 0.4em 0.5em 0.4em;box-sizing: border-box;padding-bottom: 0.4em;background-color: white;}#sk-container-id-9 div.sk-label label {font-family: monospace;font-weight: bold;display: inline-block;line-height: 1.2em;}#sk-container-id-9 div.sk-label-container {text-align: center;}#sk-container-id-9 div.sk-container {/* jupyter's `normalize.less` sets `[hidden] { display: none; }` but bootstrap.min.css set `[hidden] { display: none !important; }` so we also need the `!important` here to be able to override the default hidden behavior on the sphinx rendered scikit-learn.org. See: https://github.com/scikit-learn/scikit-learn/issues/21755 */display: inline-block !important;position: relative;}#sk-container-id-9 div.sk-text-repr-fallback {display: none;}</style><div id=\"sk-container-id-9\" class=\"sk-top-container\"><div class=\"sk-text-repr-fallback\"><pre>LinearRegression()</pre><b>In a Jupyter environment, please rerun this cell to show the HTML representation or trust the notebook. <br />On GitHub, the HTML representation is unable to render, please try loading this page with nbviewer.org.</b></div><div class=\"sk-container\" hidden><div class=\"sk-item\"><div class=\"sk-estimator sk-toggleable\"><input class=\"sk-toggleable__control sk-hidden--visually\" id=\"sk-estimator-id-9\" type=\"checkbox\" checked><label for=\"sk-estimator-id-9\" class=\"sk-toggleable__label sk-toggleable__label-arrow\">LinearRegression</label><div class=\"sk-toggleable__content\"><pre>LinearRegression()</pre></div></div></div></div></div>"
      ],
      "text/plain": [
       "LinearRegression()"
      ]
     },
     "execution_count": 163,
     "metadata": {},
     "output_type": "execute_result"
    }
   ],
   "source": [
    "model.fit(X_train,y_train)"
   ]
  },
  {
   "cell_type": "code",
   "execution_count": 164,
   "id": "ad174ca1",
   "metadata": {},
   "outputs": [
    {
     "data": {
      "text/plain": [
       "array([0.00460014, 1.84539962])"
      ]
     },
     "execution_count": 164,
     "metadata": {},
     "output_type": "execute_result"
    }
   ],
   "source": [
    "model.coef_"
   ]
  },
  {
   "cell_type": "code",
   "execution_count": 165,
   "id": "cc3ae742",
   "metadata": {},
   "outputs": [
    {
     "data": {
      "text/plain": [
       "34.09956037406553"
      ]
     },
     "execution_count": 165,
     "metadata": {},
     "output_type": "execute_result"
    }
   ],
   "source": [
    "model.intercept_"
   ]
  },
  {
   "cell_type": "code",
   "execution_count": 166,
   "id": "1cccb4db",
   "metadata": {},
   "outputs": [],
   "source": [
    "y_pred = model.predict(X_test)"
   ]
  },
  {
   "cell_type": "code",
   "execution_count": 167,
   "id": "3806cebc",
   "metadata": {},
   "outputs": [
    {
     "data": {
      "text/plain": [
       "array([39.62921511, 39.62921511, 39.62921511, ..., 37.78381549,\n",
       "       37.78381549, 39.62921511])"
      ]
     },
     "execution_count": 167,
     "metadata": {},
     "output_type": "execute_result"
    }
   ],
   "source": [
    "y_pred"
   ]
  },
  {
   "cell_type": "code",
   "execution_count": 168,
   "id": "663bafff",
   "metadata": {},
   "outputs": [
    {
     "data": {
      "text/plain": [
       "9064    21\n",
       "8535    27\n",
       "1595     6\n",
       "3333     9\n",
       "3852    30\n",
       "        ..\n",
       "7521    46\n",
       "6428    30\n",
       "810     77\n",
       "5920    23\n",
       "6395    36\n",
       "Name: edad, Length: 1987, dtype: int64"
      ]
     },
     "execution_count": 168,
     "metadata": {},
     "output_type": "execute_result"
    }
   ],
   "source": [
    "y_test"
   ]
  },
  {
   "cell_type": "code",
   "execution_count": 169,
   "id": "9a2830cf",
   "metadata": {},
   "outputs": [
    {
     "data": {
      "text/plain": [
       "14.951205229137065"
      ]
     },
     "execution_count": 169,
     "metadata": {},
     "output_type": "execute_result"
    }
   ],
   "source": [
    "mean_absolute_error(y_pred,y_test)"
   ]
  },
  {
   "cell_type": "code",
   "execution_count": 170,
   "id": "d0d8dbd4",
   "metadata": {},
   "outputs": [
    {
     "data": {
      "text/plain": [
       "337.29688182090047"
      ]
     },
     "execution_count": 170,
     "metadata": {},
     "output_type": "execute_result"
    }
   ],
   "source": [
    "mean_squared_error(y_pred,y_test)"
   ]
  },
  {
   "cell_type": "code",
   "execution_count": 171,
   "id": "3e74f8c2",
   "metadata": {},
   "outputs": [
    {
     "data": {
      "text/plain": [
       "18.365644062240246"
      ]
     },
     "execution_count": 171,
     "metadata": {},
     "output_type": "execute_result"
    }
   ],
   "source": [
    "np.sqrt(mean_squared_error(y_pred,y_test))"
   ]
  },
  {
   "cell_type": "code",
   "execution_count": 172,
   "id": "47a5b493",
   "metadata": {},
   "outputs": [
    {
     "data": {
      "text/plain": [
       "0.008649670434154988"
      ]
     },
     "execution_count": 172,
     "metadata": {},
     "output_type": "execute_result"
    }
   ],
   "source": [
    "r2_score(y_test,y_pred)"
   ]
  },
  {
   "cell_type": "code",
   "execution_count": null,
   "id": "1569c4a2",
   "metadata": {},
   "outputs": [],
   "source": []
  },
  {
   "cell_type": "code",
   "execution_count": null,
   "id": "12512a81",
   "metadata": {},
   "outputs": [],
   "source": []
  },
  {
   "cell_type": "code",
   "execution_count": null,
   "id": "1e0fb41d",
   "metadata": {},
   "outputs": [],
   "source": []
  }
 ],
 "metadata": {
  "kernelspec": {
   "display_name": "Python 3 (ipykernel)",
   "language": "python",
   "name": "python3"
  },
  "language_info": {
   "codemirror_mode": {
    "name": "ipython",
    "version": 3
   },
   "file_extension": ".py",
   "mimetype": "text/x-python",
   "name": "python",
   "nbconvert_exporter": "python",
   "pygments_lexer": "ipython3",
   "version": "3.11.5"
  }
 },
 "nbformat": 4,
 "nbformat_minor": 5
}
